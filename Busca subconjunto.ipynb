{
  "nbformat": 4,
  "nbformat_minor": 0,
  "metadata": {
    "colab": {
      "provenance": []
    },
    "kernelspec": {
      "name": "python3",
      "display_name": "Python 3"
    },
    "language_info": {
      "name": "python"
    }
  },
  "cells": [
    {
      "cell_type": "markdown",
      "source": [
        "# Orientações:\n",
        "\n",
        "* Apenas as funções `range()`, `len()` e `int()`, e o método `.append()`, podem ser usadas nas implementações;\n",
        "* Demais funções e bibliotecas do Python estão proibidas;\n",
        "* Execute as células com os casos de teste propostos para cada uma das funções desenvolvidas."
      ],
      "metadata": {
        "id": "VTwkGmgzKtkz"
      }
    },
    {
      "cell_type": "code",
      "execution_count": null,
      "metadata": {
        "id": "QD4FV4rjKqzy"
      },
      "outputs": [],
      "source": [
        "import random # esta função será usada somente nos testes"
      ]
    },
    {
      "cell_type": "markdown",
      "source": [
        "# Implemente uma solução para os seguintes problemas:\n",
        "\n",
        "1. **Transporte de pedras**: tomando `N` pedras onde a primeira tem $1kg$ de peso e as demais pesam $1kg$ a mais que a anterior, ou seja $pedra_1 = 1kg$, $pedra_2 = 2kg$, $pedra_3 = 3kg$, ..., $pedra_N = Nkg$. Implemente um algoritmo que determine a forma de transportá-las em um veículo com capacidade máxima de $C$ ($kg$) por vez com o mínimo de deslocamentos.\n",
        "\n",
        "Exemplo:\n",
        "```python\n",
        ">>> N = 5 # Quantidade de pedras\n",
        ">>> C = 10 # Capacidade do veículo\n",
        ">>> pedras = [i+1 for i in range(N)]\n",
        ">>> n_deslocamentos = melhor_transporte(pedras, C)\n",
        "\"1º deslocamento: [1, 4, 5] (10 kg)\"\n",
        "\"2º deslocamento: [2, 3] (5 kg)\"\n",
        ">>> print(f'Menor quantidade de deslocamentos = {n_deslocamentos}')\n",
        "\"Menor quantidade de deslocamentos = 2\"\n",
        "```\n",
        "\n",
        "2. **Corte de toras**: considere uma tora de madeira de comprimento $L$ (em metros -- $m$), a qual desejamos cortá-la $N$ vezes em posições determinadas pela lista $[p_1, p_2, p_3, ..., p_N]$. Cada corte custa $R$ reais por metro de tora a ser cortada, por exemplo se $R = 5$ e $L = 10$, o valor do primeiro corte será $R\\$\\  50,00$ independente do ponto de corte. Determine o valor total mínimo para os $N$ cortes.\n",
        "\n",
        "Exemplo:\n",
        "```python\n",
        ">>> R = 10 # Custo por metro de tora a ser cortada\n",
        ">>> L = 8 # Tamanho total da tora\n",
        ">>> cortes = [1, 4, 6]\n",
        ">>> menor_custo = cortes_tora(cortes, L, R)\n",
        "\"1º corte em 4m (R$ 80)\"\n",
        "\"2º corte em 1m (R$ 40)\"\n",
        "\"3º corte em 6m (R$ 40)\"\n",
        ">>> print(f'Menor custo para os cortes = R$ {menor_custo}')\n",
        "\"Menor custo para os cortes = R$ 160\"\n",
        "```\n",
        "\n",
        "3. **Soma zero**: considere um conjunto com $N$ números inteiros, por exemplo $C = \\{5, -3, 2, -1, -4\\}$. Determine um subconjunto com os elementos desse conjunto tal que a soma seja $0$ (zero). No exemplo $C = \\{5, -3, 2, -8, -4\\}$, podemos observar que a soma $5 + 2 + (-3) + (-4) = 0$, portanto um subconjunto possível é $C_{\\Sigma=0} = \\{5, 2, -3 ,-4\\}$.\n",
        "\n",
        "Exemplo:\n",
        "```python\n",
        ">>> C = [5, -3, 2, -8, -4]\n",
        ">>> subconjunto = soma_zero(C)\n",
        "\"#1  Soma do subconjunto [5] = 5\"\n",
        "\"#2  Soma do subconjunto [-3] = -3\"\n",
        "\"#3  Soma do subconjunto [2] = 2\"\n",
        "\"#4  Soma do subconjunto [-8] = -8\"\n",
        "\"#5  Soma do subconjunto [-4] = -4\"\n",
        "\"#6  Soma do subconjunto [5, -3] = 2\"\n",
        "\"#7  Soma do subconjunto [5, 2] = 7\"\n",
        "\"#8  Soma do subconjunto [5, -8] = -3\"\n",
        "\"#9  Soma do subconjunto [5, -4] = 1\"\n",
        "\"#10 Soma do subconjunto [-3, 2] = -1\"\n",
        "\"#11 Soma do subconjunto [-3, -8] = -11\"\n",
        "\"#12 Soma do subconjunto [-3, -4] = -7\"\n",
        "\"#13 Soma do subconjunto [2, -8] = -6\"\n",
        "\"#14 Soma do subconjunto [2, -4] = -2\"\n",
        "\"#15 Soma do subconjunto [-8, -4] = -12\"\n",
        "\"#16 Soma do subconjunto [5, -3, 2] = 4\"\n",
        "\"#17 Soma do subconjunto [5, -3, -8] = -6\"\n",
        "\"#18 Soma do subconjunto [5, -3, -4] = -2\"\n",
        "\"#19 Soma do subconjunto [5, 2, -8] = -1\"\n",
        "\"#20 Soma do subconjunto [5, 2, -4] = 3\"\n",
        "\"#21 Soma do subconjunto [5, -8, -4] = -7\"\n",
        "\"#22 Soma do subconjunto [-3, 2, -8] = -9\"\n",
        "\"#23 Soma do subconjunto [-3, 2, -4] = -5\"\n",
        "\"#24 Soma do subconjunto [-3, -8, -4] = -15\"\n",
        "\"#25 Soma do subconjunto [2, -8, -4] = -10\"\n",
        "\"#26 Soma do subconjunto [5, -3, 2, -8] = -4\"\n",
        "\"#27 Soma do subconjunto [5, -3, 2, -4] = 0 <--\"\n",
        "\"#28 Soma do subconjunto [5, -3, -8, -4] = -10\"\n",
        "\"#29 Soma do subconjunto [5, 2, -8, -4] = -5\"\n",
        "\"#30 Soma do subconjunto [-3, 2, -8, -4] = -13\"\n",
        "\"#31 Soma do subconjunto [5, -3, 2, -8, -4] = -8\"\n",
        ">>> if len(subconjunto) > 0:\n",
        ">>>   print('Subconjunto com soma 0:', subconjunto)\n",
        ">>> else:\n",
        ">>>   print('Não há subconjunto com soma 0 no conjunto', C)\n",
        "\"Subconjunto com soma 0: [5, -3, 2, -4]\"\n",
        "```"
      ],
      "metadata": {
        "id": "bQbPGKlKK4KR"
      }
    },
    {
      "cell_type": "code",
      "source": [
        "def melhor_transporte(pedras, C):\n",
        "    deslocamentos = []\n",
        "    pedras_restantes = []\n",
        "    for p in pedras:\n",
        "        pedras_restantes.append(p)\n",
        "    while len(pedras_restantes) > 0:\n",
        "        carga_atual = []\n",
        "        peso_atual = 0\n",
        "        for i in range(len(pedras_restantes) - 1, -1, -1):\n",
        "            if peso_atual + pedras_restantes[i] <= C:\n",
        "                carga_atual.append(pedras_restantes[i])\n",
        "                peso_atual += pedras_restantes[i]\n",
        "                pedras_restantes.pop(i)\n",
        "        deslocamentos.append(f\"Deslocamento: {carga_atual} ({peso_atual} kg)\")\n",
        "    return deslocamentos, len(deslocamentos)"
      ],
      "metadata": {
        "id": "dyuQZzYMK3XY"
      },
      "execution_count": null,
      "outputs": []
    },
    {
      "cell_type": "code",
      "source": [
        "# NÃO MODIFIQUE ESSA CÉLULA\n",
        "\n",
        "# Teste-1 da função melhor_transporte()\n",
        "N = 100\n",
        "pedras = [(i + 1) for i in range(N)]\n",
        "C = 1000\n",
        "\n",
        "n_deslocamentos = melhor_transporte(pedras, C)\n",
        "print(f'Menor quantidade de deslocamentos = {n_deslocamentos}')"
      ],
      "metadata": {
        "id": "7y__Z4ySTfuT",
        "colab": {
          "base_uri": "https://localhost:8080/"
        },
        "outputId": "70da8831-56ef-450f-cfc3-ca66ad1c8c6c"
      },
      "execution_count": null,
      "outputs": [
        {
          "output_type": "stream",
          "name": "stdout",
          "text": [
            "Menor quantidade de deslocamentos = (['Deslocamento: [100, 99, 98, 97, 96, 95, 94, 93, 92, 91, 45] (1000 kg)', 'Deslocamento: [90, 89, 88, 87, 86, 85, 84, 83, 82, 81, 80, 65] (1000 kg)', 'Deslocamento: [79, 78, 77, 76, 75, 74, 73, 72, 71, 70, 69, 68, 67, 51] (1000 kg)', 'Deslocamento: [66, 64, 63, 62, 61, 60, 59, 58, 57, 56, 55, 54, 53, 52, 50, 49, 48, 33] (1000 kg)', 'Deslocamento: [47, 46, 44, 43, 42, 41, 40, 39, 38, 37, 36, 35, 34, 32, 31, 30, 29, 28, 27, 26, 25, 24, 23, 22, 21, 20, 19, 18, 17, 16, 15, 14, 13, 12, 11, 5] (1000 kg)', 'Deslocamento: [10, 9, 8, 7, 6, 4, 3, 2, 1] (50 kg)'], 6)\n"
          ]
        }
      ]
    },
    {
      "cell_type": "code",
      "source": [
        "# NÃO MODIFIQUE ESSA CÉLULA\n",
        "\n",
        "# Teste-2 da função melhor_transporte()\n",
        "N = 100\n",
        "pedras = [(i + 1) for i in range(N)]\n",
        "C = 150\n",
        "\n",
        "n_deslocamentos = melhor_transporte(pedras, C)\n",
        "print(f'Menor quantidade de deslocamentos = {n_deslocamentos}')"
      ],
      "metadata": {
        "id": "2NvG0MqoThY-",
        "colab": {
          "base_uri": "https://localhost:8080/"
        },
        "outputId": "b2b2bd24-b1e4-42fc-cb8b-63e824de3295"
      },
      "execution_count": null,
      "outputs": [
        {
          "output_type": "stream",
          "name": "stdout",
          "text": [
            "Menor quantidade de deslocamentos = (['Deslocamento: [100, 50] (150 kg)', 'Deslocamento: [99, 51] (150 kg)', 'Deslocamento: [98, 52] (150 kg)', 'Deslocamento: [97, 53] (150 kg)', 'Deslocamento: [96, 54] (150 kg)', 'Deslocamento: [95, 55] (150 kg)', 'Deslocamento: [94, 56] (150 kg)', 'Deslocamento: [93, 57] (150 kg)', 'Deslocamento: [92, 58] (150 kg)', 'Deslocamento: [91, 59] (150 kg)', 'Deslocamento: [90, 60] (150 kg)', 'Deslocamento: [89, 61] (150 kg)', 'Deslocamento: [88, 62] (150 kg)', 'Deslocamento: [87, 63] (150 kg)', 'Deslocamento: [86, 64] (150 kg)', 'Deslocamento: [85, 65] (150 kg)', 'Deslocamento: [84, 66] (150 kg)', 'Deslocamento: [83, 67] (150 kg)', 'Deslocamento: [82, 68] (150 kg)', 'Deslocamento: [81, 69] (150 kg)', 'Deslocamento: [80, 70] (150 kg)', 'Deslocamento: [79, 71] (150 kg)', 'Deslocamento: [78, 72] (150 kg)', 'Deslocamento: [77, 73] (150 kg)', 'Deslocamento: [76, 74] (150 kg)', 'Deslocamento: [75, 49, 26] (150 kg)', 'Deslocamento: [48, 47, 46, 9] (150 kg)', 'Deslocamento: [45, 44, 43, 18] (150 kg)', 'Deslocamento: [42, 41, 40, 27] (150 kg)', 'Deslocamento: [39, 38, 37, 36] (150 kg)', 'Deslocamento: [35, 34, 33, 32, 16] (150 kg)', 'Deslocamento: [31, 30, 29, 28, 25, 7] (150 kg)', 'Deslocamento: [24, 23, 22, 21, 20, 19, 17, 4] (150 kg)', 'Deslocamento: [15, 14, 13, 12, 11, 10, 8, 6, 5, 3, 2, 1] (100 kg)'], 34)\n"
          ]
        }
      ]
    },
    {
      "cell_type": "code",
      "source": [
        "# NÃO MODIFIQUE ESSA CÉLULA\n",
        "\n",
        "# Teste-3 da função melhor_transporte()\n",
        "N = 200\n",
        "pedras = [(i + 1) for i in range(N)]\n",
        "C = 200\n",
        "\n",
        "n_deslocamentos = melhor_transporte(pedras, C)\n",
        "print(f'Menor quantidade de deslocamentos = {n_deslocamentos}')"
      ],
      "metadata": {
        "id": "cVwWukVyTkai",
        "colab": {
          "base_uri": "https://localhost:8080/"
        },
        "outputId": "3463e2a4-4141-47cc-dcd8-24c2bf9775ae"
      },
      "execution_count": null,
      "outputs": [
        {
          "output_type": "stream",
          "name": "stdout",
          "text": [
            "Menor quantidade de deslocamentos = (['Deslocamento: [200] (200 kg)', 'Deslocamento: [199, 1] (200 kg)', 'Deslocamento: [198, 2] (200 kg)', 'Deslocamento: [197, 3] (200 kg)', 'Deslocamento: [196, 4] (200 kg)', 'Deslocamento: [195, 5] (200 kg)', 'Deslocamento: [194, 6] (200 kg)', 'Deslocamento: [193, 7] (200 kg)', 'Deslocamento: [192, 8] (200 kg)', 'Deslocamento: [191, 9] (200 kg)', 'Deslocamento: [190, 10] (200 kg)', 'Deslocamento: [189, 11] (200 kg)', 'Deslocamento: [188, 12] (200 kg)', 'Deslocamento: [187, 13] (200 kg)', 'Deslocamento: [186, 14] (200 kg)', 'Deslocamento: [185, 15] (200 kg)', 'Deslocamento: [184, 16] (200 kg)', 'Deslocamento: [183, 17] (200 kg)', 'Deslocamento: [182, 18] (200 kg)', 'Deslocamento: [181, 19] (200 kg)', 'Deslocamento: [180, 20] (200 kg)', 'Deslocamento: [179, 21] (200 kg)', 'Deslocamento: [178, 22] (200 kg)', 'Deslocamento: [177, 23] (200 kg)', 'Deslocamento: [176, 24] (200 kg)', 'Deslocamento: [175, 25] (200 kg)', 'Deslocamento: [174, 26] (200 kg)', 'Deslocamento: [173, 27] (200 kg)', 'Deslocamento: [172, 28] (200 kg)', 'Deslocamento: [171, 29] (200 kg)', 'Deslocamento: [170, 30] (200 kg)', 'Deslocamento: [169, 31] (200 kg)', 'Deslocamento: [168, 32] (200 kg)', 'Deslocamento: [167, 33] (200 kg)', 'Deslocamento: [166, 34] (200 kg)', 'Deslocamento: [165, 35] (200 kg)', 'Deslocamento: [164, 36] (200 kg)', 'Deslocamento: [163, 37] (200 kg)', 'Deslocamento: [162, 38] (200 kg)', 'Deslocamento: [161, 39] (200 kg)', 'Deslocamento: [160, 40] (200 kg)', 'Deslocamento: [159, 41] (200 kg)', 'Deslocamento: [158, 42] (200 kg)', 'Deslocamento: [157, 43] (200 kg)', 'Deslocamento: [156, 44] (200 kg)', 'Deslocamento: [155, 45] (200 kg)', 'Deslocamento: [154, 46] (200 kg)', 'Deslocamento: [153, 47] (200 kg)', 'Deslocamento: [152, 48] (200 kg)', 'Deslocamento: [151, 49] (200 kg)', 'Deslocamento: [150, 50] (200 kg)', 'Deslocamento: [149, 51] (200 kg)', 'Deslocamento: [148, 52] (200 kg)', 'Deslocamento: [147, 53] (200 kg)', 'Deslocamento: [146, 54] (200 kg)', 'Deslocamento: [145, 55] (200 kg)', 'Deslocamento: [144, 56] (200 kg)', 'Deslocamento: [143, 57] (200 kg)', 'Deslocamento: [142, 58] (200 kg)', 'Deslocamento: [141, 59] (200 kg)', 'Deslocamento: [140, 60] (200 kg)', 'Deslocamento: [139, 61] (200 kg)', 'Deslocamento: [138, 62] (200 kg)', 'Deslocamento: [137, 63] (200 kg)', 'Deslocamento: [136, 64] (200 kg)', 'Deslocamento: [135, 65] (200 kg)', 'Deslocamento: [134, 66] (200 kg)', 'Deslocamento: [133, 67] (200 kg)', 'Deslocamento: [132, 68] (200 kg)', 'Deslocamento: [131, 69] (200 kg)', 'Deslocamento: [130, 70] (200 kg)', 'Deslocamento: [129, 71] (200 kg)', 'Deslocamento: [128, 72] (200 kg)', 'Deslocamento: [127, 73] (200 kg)', 'Deslocamento: [126, 74] (200 kg)', 'Deslocamento: [125, 75] (200 kg)', 'Deslocamento: [124, 76] (200 kg)', 'Deslocamento: [123, 77] (200 kg)', 'Deslocamento: [122, 78] (200 kg)', 'Deslocamento: [121, 79] (200 kg)', 'Deslocamento: [120, 80] (200 kg)', 'Deslocamento: [119, 81] (200 kg)', 'Deslocamento: [118, 82] (200 kg)', 'Deslocamento: [117, 83] (200 kg)', 'Deslocamento: [116, 84] (200 kg)', 'Deslocamento: [115, 85] (200 kg)', 'Deslocamento: [114, 86] (200 kg)', 'Deslocamento: [113, 87] (200 kg)', 'Deslocamento: [112, 88] (200 kg)', 'Deslocamento: [111, 89] (200 kg)', 'Deslocamento: [110, 90] (200 kg)', 'Deslocamento: [109, 91] (200 kg)', 'Deslocamento: [108, 92] (200 kg)', 'Deslocamento: [107, 93] (200 kg)', 'Deslocamento: [106, 94] (200 kg)', 'Deslocamento: [105, 95] (200 kg)', 'Deslocamento: [104, 96] (200 kg)', 'Deslocamento: [103, 97] (200 kg)', 'Deslocamento: [102, 98] (200 kg)', 'Deslocamento: [101, 99] (200 kg)', 'Deslocamento: [100] (100 kg)'], 101)\n"
          ]
        }
      ]
    },
    {
      "cell_type": "code",
      "source": [
        "def cortes_tora(cortes, L, R):\n",
        "    nova_lista = [0] + cortes + [L]\n",
        "    for i in range(len(nova_lista)):\n",
        "        for j in range(len(nova_lista) - 1):\n",
        "            if nova_lista[j] > nova_lista[j + 1]:\n",
        "                nova_lista[j], nova_lista[j + 1] = nova_lista[j + 1], nova_lista[j]\n",
        "    custo_total = 0\n",
        "    while len(nova_lista) > 2:\n",
        "        menor_custo = L * R\n",
        "        indice_melhor_corte = -1\n",
        "        for i in range(1, len(nova_lista) - 1):\n",
        "            custo_atual = (nova_lista[i + 1] - nova_lista[i - 1]) * R\n",
        "            if custo_atual < menor_custo:\n",
        "                menor_custo = custo_atual\n",
        "                indice_melhor_corte = i\n",
        "        custo_total += menor_custo\n",
        "        nova_lista.pop(indice_melhor_corte)\n",
        "    return custo_total\n",
        "R = 10\n",
        "L = 8\n",
        "cortes = [1, 4, 6]\n",
        "menor_custo = cortes_tora(cortes, L, R)\n",
        "print(f'Menor custo para os cortes = R$ {menor_custo}')\n"
      ],
      "metadata": {
        "id": "OrW5LP-oTmsY",
        "colab": {
          "base_uri": "https://localhost:8080/"
        },
        "outputId": "522140a6-4a6f-48c1-9ac4-00c6757d725a"
      },
      "execution_count": null,
      "outputs": [
        {
          "output_type": "stream",
          "name": "stdout",
          "text": [
            "Menor custo para os cortes = R$ 160\n"
          ]
        }
      ]
    },
    {
      "cell_type": "code",
      "source": [
        "# NÃO MODIFIQUE ESSA CÉLULA\n",
        "\n",
        "# Teste-1 da função cortes_tora()\n",
        "random.seed(42)\n",
        "N = 5\n",
        "L = 10\n",
        "cortes = sorted(random.sample(range(1, L), N))\n",
        "R = 15\n",
        "\n",
        "menor_custo = cortes_tora(cortes, L, R)\n",
        "print(f'Menor custo para os cortes = R$ {menor_custo}')"
      ],
      "metadata": {
        "id": "4F0a0UmyUDY8",
        "colab": {
          "base_uri": "https://localhost:8080/"
        },
        "outputId": "a22fa497-f418-4109-d628-09078a46ecc3"
      },
      "execution_count": null,
      "outputs": [
        {
          "output_type": "stream",
          "name": "stdout",
          "text": [
            "Menor custo para os cortes = R$ 375\n"
          ]
        }
      ]
    },
    {
      "cell_type": "code",
      "source": [
        "# NÃO MODIFIQUE ESSA CÉLULA\n",
        "\n",
        "# Teste-2 da função cortes_tora()\n",
        "random.seed(42)\n",
        "N = 10\n",
        "L = 15\n",
        "cortes = sorted(random.sample(range(1, L), N))\n",
        "R = 1\n",
        "\n",
        "menor_custo = cortes_tora(cortes, L, R)\n",
        "print(f'Menor custo para os cortes = R$ {menor_custo}')"
      ],
      "metadata": {
        "id": "K1lWYfZPUFpo",
        "colab": {
          "base_uri": "https://localhost:8080/"
        },
        "outputId": "56178b2d-9d9b-4bd8-e7b9-5b361abce6e2"
      },
      "execution_count": null,
      "outputs": [
        {
          "output_type": "stream",
          "name": "stdout",
          "text": [
            "Menor custo para os cortes = R$ 50\n"
          ]
        }
      ]
    },
    {
      "cell_type": "code",
      "source": [
        "# NÃO MODIFIQUE ESSA CÉLULA\n",
        "\n",
        "# Teste-3 da função cortes_tora()\n",
        "random.seed(42)\n",
        "N = 18\n",
        "L = 20\n",
        "cortes = sorted(random.sample(range(1, L), N))\n",
        "R = 3\n",
        "\n",
        "menor_custo = cortes_tora(cortes, L, R)\n",
        "print(f'Menor custo para os cortes = R$ {menor_custo}')"
      ],
      "metadata": {
        "id": "xunYEJHRUHds",
        "colab": {
          "base_uri": "https://localhost:8080/"
        },
        "outputId": "4490721c-52c5-4b5c-cd32-4dcfbd919671"
      },
      "execution_count": null,
      "outputs": [
        {
          "output_type": "stream",
          "name": "stdout",
          "text": [
            "Menor custo para os cortes = R$ 258\n"
          ]
        }
      ]
    },
    {
      "cell_type": "code",
      "source": [
        "def soma_zero(conjunto):\n",
        "    subconjuntos = pegar_subconjuntos(conjunto)\n",
        "    for sub in subconjuntos:\n",
        "        soma = 0\n",
        "        for elemento in sub:\n",
        "            soma += elemento\n",
        "        if soma == 0:\n",
        "            return sub\n",
        "    return []\n",
        "\n",
        "\n",
        "def pegar_subconjuntos(conjunto):\n",
        "    subconjuntos = [[]]\n",
        "    for elemento in conjunto:\n",
        "        subconjuntos += [subconjunto + [elemento] for subconjunto in subconjuntos]\n",
        "    return subconjuntos[1:]"
      ],
      "metadata": {
        "id": "5UfDqf4mULus"
      },
      "execution_count": null,
      "outputs": []
    },
    {
      "cell_type": "code",
      "source": [
        "# NÃO MODIFIQUE ESSA CÉLULA\n",
        "\n",
        "# Teste-1 da função soma_zero()\n",
        "random.seed(0)\n",
        "N = 18\n",
        "conjunto = random.sample(range(-N, N), N)\n",
        "\n",
        "subconjunto = soma_zero(conjunto)\n",
        "if len(subconjunto) > 0:\n",
        "  print('Subconjunto com soma 0:', subconjunto)\n",
        "else:\n",
        "  print('Não há subconjunto com soma 0 no conjunto', conjunto)"
      ],
      "metadata": {
        "id": "WO41WGeFURb7",
        "colab": {
          "base_uri": "https://localhost:8080/"
        },
        "outputId": "207d4e2a-fa9c-4055-d582-14f45a39a373"
      },
      "execution_count": null,
      "outputs": [
        {
          "output_type": "stream",
          "name": "stdout",
          "text": [
            "Subconjunto com soma 0: [6, -6]\n"
          ]
        }
      ]
    },
    {
      "cell_type": "code",
      "source": [
        "# NÃO MODIFIQUE ESSA CÉLULA\n",
        "\n",
        "# Teste-2 da função soma_zero()\n",
        "random.seed(1)\n",
        "N = 12\n",
        "conjunto = random.sample([-10, -1, -3] + list(range(5, 5*N)), N)\n",
        "\n",
        "subconjunto = soma_zero(conjunto)\n",
        "if len(subconjunto) > 0:\n",
        "  print('Subconjunto com soma 0:', subconjunto)\n",
        "else:\n",
        "  print('Não há subconjunto com soma 0 no conjunto', conjunto)"
      ],
      "metadata": {
        "id": "i2KwvTBNU50a",
        "colab": {
          "base_uri": "https://localhost:8080/"
        },
        "outputId": "5fc9863c-5c44-4c42-caa6-6c1f6450026c"
      },
      "execution_count": null,
      "outputs": [
        {
          "output_type": "stream",
          "name": "stdout",
          "text": [
            "Não há subconjunto com soma 0 no conjunto [10, 38, 56, 53, 50, 6, 18, 9, 33, 55, 30, 32]\n"
          ]
        }
      ]
    },
    {
      "cell_type": "code",
      "source": [
        "# NÃO MODIFIQUE ESSA CÉLULA\n",
        "\n",
        "# Teste-3 da função soma_zero()\n",
        "random.seed(10)\n",
        "N = 15\n",
        "conjunto = random.sample(list(range(-N, 0, -3)) + list(range(2*N, 5*N, 2)), N)\n",
        "subconjunto = soma_zero(conjunto)\n",
        "if len(subconjunto) > 0:\n",
        "  print('Subconjunto com soma 0:', subconjunto)\n",
        "else:\n",
        "  print('Não há subconjunto com soma 0 no conjunto', conjunto)"
      ],
      "metadata": {
        "id": "BFsOQsi6U6sf",
        "colab": {
          "base_uri": "https://localhost:8080/"
        },
        "outputId": "744554a3-e184-4d61-b44e-917f3eab48ed"
      },
      "execution_count": null,
      "outputs": [
        {
          "output_type": "stream",
          "name": "stdout",
          "text": [
            "Não há subconjunto com soma 0 no conjunto [66, 32, 56, 60, 74, 30, 42, 58, 70, 44, 38, 50, 34, 64, 46]\n"
          ]
        }
      ]
    },
    {
      "cell_type": "code",
      "source": [],
      "metadata": {
        "id": "pP_sK1u-XVkW"
      },
      "execution_count": null,
      "outputs": []
    }
  ]
}