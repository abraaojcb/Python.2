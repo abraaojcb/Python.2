{
  "nbformat": 4,
  "nbformat_minor": 0,
  "metadata": {
    "colab": {
      "provenance": []
    },
    "kernelspec": {
      "name": "python3",
      "display_name": "Python 3"
    },
    "language_info": {
      "name": "python"
    }
  },
  "cells": [
    {
      "cell_type": "markdown",
      "source": [
        "# Atividade - análise de complexidade temporal\n",
        "\n",
        "## Orientações:\n",
        "\n",
        "* Apenas as funções `range()`, `len()` e `int()`, e o método `.append()`, podem ser usadas nas implementações;\n",
        "* Demais funções e bibliotecas do Python estão proibidas;\n",
        "* Execute as células com os casos de teste propostos para cada uma das funções desenvolvidas."
      ],
      "metadata": {
        "id": "E3qKqsnQ-4so"
      }
    },
    {
      "cell_type": "code",
      "execution_count": null,
      "metadata": {
        "id": "5rDV9Itm-10o"
      },
      "outputs": [],
      "source": [
        "import numpy as np # esta biblioteca será usada somente nos testes\n",
        "\n",
        "import matplotlib.pyplot as plt\n",
        "%matplotlib inline"
      ]
    },
    {
      "cell_type": "markdown",
      "source": [
        "# Árvore de busca binária\n",
        "\n",
        "Dada uma lista de elementos, por exemplo: `[0, 1, 2, 5, 6, 7, 8]`, construir a árvore de busca binária com tuplas.\n",
        "\n",
        "Cada tupla deve ter 3 elementos: `(esquerda, valor, direita)`, onde `valor` é o conteúdo do nó da árvore com o respectivo índice `(índice,conteúdo)`, e `esquerda` e `direita` são os filhos à esquerda e à direita do nó, respectivamente.\n",
        "\n",
        "Exemplo de código:\n",
        "```python\n",
        ">>> lista = [0, 1, 2, 5, 6, 7, 8]\n",
        ">>> arvore = constroi_arvore(lista)\n",
        ">>> print(arvore)\n",
        "((((),(0,0),()),(1,1),((),(2,2),())),(3,5),(((),(4,6),()),(5,7),((),(6,8),())))\n",
        ">>> indice = busca_em_arvore(arvore, 6)\n",
        ">>> print(indice)\n",
        "4\n",
        ">>> indice = busca_em_arvore(arvore, 3)\n",
        ">>> print(indice)\n",
        "None\n",
        "```"
      ],
      "metadata": {
        "id": "aI3tUaSh_Fmb"
      }
    },
    {
      "cell_type": "code",
      "source": [
        "def constroi_arvore(lista, inicio = 0, fim = None):\n",
        "  if fim == None:\n",
        "    fim = len(lista) - 1\n",
        "  if inicio == fim:\n",
        "    return ((), (inicio, lista[inicio]), ())\n",
        "  meio = (fim + inicio) // 2\n",
        "  esquerda = constroi_arvore(lista, inicio, meio)\n",
        "  direita = constroi_arvore(lista, meio + 1, fim)\n",
        "  return (esquerda,(meio, lista[meio]),direita)\n",
        "\n",
        "lista = [0, 1, 2, 5, 6, 7, 8]\n",
        "arvore = constroi_arvore(lista)\n",
        "print(arvore)"
      ],
      "metadata": {
        "id": "CzUXmqaBBUPL",
        "colab": {
          "base_uri": "https://localhost:8080/"
        },
        "outputId": "5c736477-0f5e-4aed-ca65-0394458f0a2f"
      },
      "execution_count": null,
      "outputs": [
        {
          "output_type": "stream",
          "name": "stdout",
          "text": [
            "(((((), (0, 0), ()), (0, 0), ((), (1, 1), ())), (1, 1), (((), (2, 2), ()), (2, 2), ((), (3, 5), ()))), (3, 5), ((((), (4, 6), ()), (4, 6), ((), (5, 7), ())), (5, 7), ((), (6, 8), ())))\n"
          ]
        }
      ]
    },
    {
      "cell_type": "code",
      "source": [
        "def busca_em_arvore(arvore, elemento):\n",
        "  if len(arvore) == 0:\n",
        "    return None\n",
        "\n",
        "  esquerda, valor, direita = arvore\n",
        "  indice, conteudo = valor\n",
        "  if conteudo == elemento:\n",
        "    return indice\n",
        "  elif conteudo < elemento:\n",
        "    return busca_em_arvore(direita, elemento)\n",
        "  else:\n",
        "    return busca_em_arvore(esquerda, elemento)"
      ],
      "metadata": {
        "id": "1ZIEYpfBBXBJ"
      },
      "execution_count": null,
      "outputs": []
    },
    {
      "cell_type": "code",
      "source": [
        "Ns = [10, 100, 1000, 10000, 100000]\n",
        "N_teste = 10\n",
        "np.random.seed(0)\n",
        "for N in Ns:\n",
        "  lista_teste = np.random.randint(0, 2*max(Ns), N).tolist()\n",
        "  arvore_teste = constroi_arvore(lista_teste)\n",
        "  elementos_teste = np.random.randint(-2*max(lista_teste),\n",
        "                                      2*max(lista_teste),\n",
        "                                      N_teste).tolist()\n",
        "  for elemento in elementos_teste:\n",
        "    indice = busca_em_arvore(arvore_teste, elemento)\n",
        "    if elemento not in lista_teste:\n",
        "      assert indice == None\n",
        "    else:\n",
        "      assert lista_teste.index(elemento) == indice"
      ],
      "metadata": {
        "id": "yHLXvMafCAMq"
      },
      "execution_count": null,
      "outputs": []
    },
    {
      "cell_type": "markdown",
      "source": [
        "# Busca em grafos\n",
        "\n",
        "Considere um grafo representado como dicionário, por exemplo:\n",
        "\n",
        "```python\n",
        "grafo = {1: [2, 3, 4],\n",
        "         2: [1, 4],\n",
        "         3: [1],\n",
        "         4: [1, 4]}\n",
        "```\n",
        "\n",
        "Apresente as árvores obtidas pelos algoritmos de busca em largura e busca em profundidade. A árvore deve ser formada por uma tupla que contém o conteúdo do nó e uma lista de tuplas referentes às conexões.\n",
        "\n",
        "Exemplo:\n",
        "```python\n",
        ">>> grafo = {1: [2, 3, 4],\n",
        "             2: [1, 4],\n",
        "             3: [1],\n",
        "             4: [1, 4]}\n",
        ">>> arvore_largura = busca_largura(grafo, 3)\n",
        ">>> arvore_profundidade = busca_profundidade(grafo, 3)\n",
        ">>> print(arvore_largura)\n",
        "(3, [(1, [(2, []), (4, [])])])\n",
        ">>> print(arvore_profundiade)\n",
        "(3, [(1, [(2, [(4, [])])])])\n",
        "```"
      ],
      "metadata": {
        "id": "_zoo5DXnDIpZ"
      }
    },
    {
      "cell_type": "code",
      "source": [
        "def busca_largura(grafo, raiz, fila=None, nos_processados=None):\n",
        "  if fila is None:\n",
        "    fila = [raiz]\n",
        "  if nos_processados is None:\n",
        "    nos_processados = []\n",
        "  if len(fila) == 0:\n",
        "    return None\n",
        "\n",
        "  v = fila[0]\n",
        "  fila[:] = fila[1:]\n",
        "  if v not in nos_processados:\n",
        "    nos_processados.append(v)\n",
        "\n",
        "  filhos = []\n",
        "  for vizinho in grafo[v]:\n",
        "    if vizinho not in nos_processados and vizinho not in fila:\n",
        "      nos_processados.append(vizinho)\n",
        "      fila.append(vizinho)\n",
        "      filhos.append(vizinho)\n",
        "\n",
        "  subarvores_filhos = []\n",
        "  if filhos:\n",
        "    for filho in filhos[:]:\n",
        "      if filho in fila:\n",
        "        subarvore_filho = busca_largura(grafo, filho, fila, nos_processados)\n",
        "        if subarvore_filho:\n",
        "          subarvores_filhos.append(subarvore_filho)\n",
        "  return (v, subarvores_filhos)\n",
        "\n",
        "grafo = {1: [2, 3, 4],\n",
        "             2: [1, 4],\n",
        "             3: [1],\n",
        "             4: [1, 4]}\n",
        "arvore_largura = busca_largura(grafo, 3)\n",
        "print(arvore_largura)"
      ],
      "metadata": {
        "id": "T-yGKzDZDAw0",
        "colab": {
          "base_uri": "https://localhost:8080/"
        },
        "outputId": "a03ec2ab-ce36-4bb7-9334-ae225c1eb95f"
      },
      "execution_count": null,
      "outputs": [
        {
          "output_type": "stream",
          "name": "stdout",
          "text": [
            "(3, [(1, [(2, []), (4, [])])])\n"
          ]
        }
      ]
    },
    {
      "cell_type": "code",
      "source": [
        "def busca_profundidade(grafo, raiz, nos_processados=None):\n",
        "  if nos_processados is None:\n",
        "    nos_processados = []\n",
        "  nos_processados.append(raiz)\n",
        "  filhos = []\n",
        "  for vizinho in grafo[raiz]:\n",
        "    if vizinho not in nos_processados:\n",
        "      subarvore = busca_profundidade(grafo, vizinho, nos_processados)\n",
        "      filhos.append(subarvore)\n",
        "  return (raiz, filhos)\n",
        "\n",
        "grafo = {1: [2, 3, 4],\n",
        "             2: [1, 4],\n",
        "             3: [1],\n",
        "             4: [1, 4]}\n",
        "arvore_profunda = busca_profundidade(grafo, 3)\n",
        "print(arvore_profunda)"
      ],
      "metadata": {
        "id": "kdbl39noFAp9",
        "colab": {
          "base_uri": "https://localhost:8080/"
        },
        "outputId": "fc8c1d3e-12ef-4ee7-b70d-3bf4d3983c81"
      },
      "execution_count": null,
      "outputs": [
        {
          "output_type": "stream",
          "name": "stdout",
          "text": [
            "(3, [(1, [(2, [(4, [])])])])\n"
          ]
        }
      ]
    },
    {
      "cell_type": "code",
      "source": [
        "N_nos = 20\n",
        "grafo_teste = dict([(k + 1,\n",
        "                     list(set(np.random.randint(1, N_nos + 1,\n",
        "                                                int(np.random.randint(5, 10))).tolist()) - {k})) for k in range(N_nos)])\n",
        "\n",
        "no_inicial = 1\n",
        "\n",
        "arvore_largura = busca_largura(grafo_teste, no_inicial)\n",
        "arvore_profundidade = busca_profundidade(grafo_teste, no_inicial)\n",
        "\n",
        "print('Árvore de busca em largura:')\n",
        "print(arvore_largura)\n",
        "\n",
        "print('\\n\\n')\n",
        "print('Árvore de busca em profundidade:')\n",
        "print(arvore_profundidade)"
      ],
      "metadata": {
        "id": "Ta9txxkJFE8S",
        "colab": {
          "base_uri": "https://localhost:8080/",
          "height": 332
        },
        "outputId": "590d96ff-4e49-4a9f-c755-3fe2c33cee99"
      },
      "execution_count": 1,
      "outputs": [
        {
          "output_type": "error",
          "ename": "NameError",
          "evalue": "name 'np' is not defined",
          "traceback": [
            "\u001b[0;31m---------------------------------------------------------------------------\u001b[0m",
            "\u001b[0;31mNameError\u001b[0m                                 Traceback (most recent call last)",
            "\u001b[0;32m/tmp/ipython-input-1-3380524246.py\u001b[0m in \u001b[0;36m<cell line: 0>\u001b[0;34m()\u001b[0m\n\u001b[1;32m      1\u001b[0m \u001b[0mN_nos\u001b[0m \u001b[0;34m=\u001b[0m \u001b[0;36m20\u001b[0m\u001b[0;34m\u001b[0m\u001b[0;34m\u001b[0m\u001b[0m\n\u001b[0;32m----> 2\u001b[0;31m grafo_teste = dict([(k + 1,\n\u001b[0m\u001b[1;32m      3\u001b[0m                      list(set(np.random.randint(1, N_nos + 1,\n\u001b[1;32m      4\u001b[0m                                                 int(np.random.randint(5, 10))).tolist()) - {k})) for k in range(N_nos)])\n\u001b[1;32m      5\u001b[0m \u001b[0;34m\u001b[0m\u001b[0m\n",
            "\u001b[0;32m/tmp/ipython-input-1-3380524246.py\u001b[0m in \u001b[0;36m<listcomp>\u001b[0;34m(.0)\u001b[0m\n\u001b[1;32m      1\u001b[0m \u001b[0mN_nos\u001b[0m \u001b[0;34m=\u001b[0m \u001b[0;36m20\u001b[0m\u001b[0;34m\u001b[0m\u001b[0;34m\u001b[0m\u001b[0m\n\u001b[1;32m      2\u001b[0m grafo_teste = dict([(k + 1,\n\u001b[0;32m----> 3\u001b[0;31m                      list(set(np.random.randint(1, N_nos + 1,\n\u001b[0m\u001b[1;32m      4\u001b[0m                                                 int(np.random.randint(5, 10))).tolist()) - {k})) for k in range(N_nos)])\n\u001b[1;32m      5\u001b[0m \u001b[0;34m\u001b[0m\u001b[0m\n",
            "\u001b[0;31mNameError\u001b[0m: name 'np' is not defined"
          ]
        }
      ]
    },
    {
      "cell_type": "code",
      "source": [],
      "metadata": {
        "id": "OfxEDZsrH9iM"
      },
      "execution_count": null,
      "outputs": []
    }
  ]
}